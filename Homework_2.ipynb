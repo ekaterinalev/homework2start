{
 "cells": [
  {
   "cell_type": "code",
   "execution_count": 4,
   "metadata": {
    "collapsed": true
   },
   "outputs": [],
   "source": [
    "# Homework 2\n",
    "# Student name: Ekaterina Levitskaya\n",
    "\n",
    "# The homework is done by myself, based on the lectures and practicum labs."
   ]
  },
  {
   "cell_type": "markdown",
   "metadata": {},
   "source": [
    "## Exercise 1"
   ]
  },
  {
   "cell_type": "code",
   "execution_count": 1,
   "metadata": {},
   "outputs": [
    {
     "name": "stdout",
     "output_type": "stream",
     "text": [
      "Please type your phrase: what a wonderful day\n",
      "WAWD\n"
     ]
    }
   ],
   "source": [
    "# This program takes the input of the user and creates an uppercase acronym for it\n",
    "\n",
    "def acronym():\n",
    "    # get the input of the user\n",
    "    phrase = input(\"Please type your phrase: \")\n",
    "    # split the input words into items\n",
    "    split_phrase = phrase.split(\" \")\n",
    "    # take first letter of each item\n",
    "    acronym = [item[0] for item in split_phrase]\n",
    "    # join first letters\n",
    "    joined_acronym = \"\".join(acronym)\n",
    "    # convert first letters into uppercase\n",
    "    upper_case_acronym = joined_acronym.upper()\n",
    "    # print the result\n",
    "    print(upper_case_acronym)\n",
    "    \n",
    "acronym()"
   ]
  },
  {
   "cell_type": "code",
   "execution_count": 2,
   "metadata": {},
   "outputs": [
    {
     "name": "stdout",
     "output_type": "stream",
     "text": [
      "Please type your phrase: Thank you very much\n",
      "TYVM\n"
     ]
    }
   ],
   "source": [
    "acronym()"
   ]
  },
  {
   "cell_type": "code",
   "execution_count": 3,
   "metadata": {},
   "outputs": [
    {
     "name": "stdout",
     "output_type": "stream",
     "text": [
      "Please type your phrase: By the Way\n",
      "BTW\n"
     ]
    }
   ],
   "source": [
    "acronym()"
   ]
  },
  {
   "cell_type": "code",
   "execution_count": 4,
   "metadata": {},
   "outputs": [
    {
     "name": "stdout",
     "output_type": "stream",
     "text": [
      "Please type your phrase: North American Free Trade Agreement\n",
      "NAFTA\n"
     ]
    }
   ],
   "source": [
    "acronym()"
   ]
  },
  {
   "cell_type": "markdown",
   "metadata": {},
   "source": [
    "## Exercise 2"
   ]
  },
  {
   "cell_type": "code",
   "execution_count": 14,
   "metadata": {},
   "outputs": [
    {
     "name": "stdout",
     "output_type": "stream",
     "text": [
      "Enter filename: sample1.txt\n",
      "There are 4 lines\n",
      "There are 17 words\n",
      "There are 90 characters\n"
     ]
    }
   ],
   "source": [
    "# This program accepts a file name as input and prints three numbers showing the count of lines, words, and characters \n",
    "# in the file\n",
    "\n",
    "def word_count():\n",
    "    # get the file input\n",
    "    fname = input(\"Enter filename: \")\n",
    "    # open file\n",
    "    fopen = open(fname)\n",
    "    # read lines first\n",
    "    lines=fopen.readlines()\n",
    "    # close the file so that next we can read in the content and count the number of words/characters\n",
    "    fopen.close()\n",
    "    # print the number of lines using length function\n",
    "    print(\"There are\", len(lines), \"lines\")\n",
    "    # re-open the file\n",
    "    fopen = open(fname)\n",
    "    # now read in the content\n",
    "    content=fopen.read()\n",
    "    # split content into words\n",
    "    split_content = content.split()\n",
    "    # close the file\n",
    "    fopen.close()\n",
    "    # print the number of the words and characters using length function\n",
    "    print(\"There are\", len(split_content), \"words\")\n",
    "    print(\"There are\", len(content), \"characters\")\n",
    "    \n",
    "word_count()"
   ]
  },
  {
   "cell_type": "code",
   "execution_count": 15,
   "metadata": {},
   "outputs": [
    {
     "name": "stdout",
     "output_type": "stream",
     "text": [
      "Enter filename: sample2.txt\n",
      "There are 7 lines\n",
      "There are 40 words\n",
      "There are 223 characters\n"
     ]
    }
   ],
   "source": [
    "word_count()"
   ]
  },
  {
   "cell_type": "markdown",
   "metadata": {},
   "source": [
    "## Exercise 3"
   ]
  },
  {
   "cell_type": "code",
   "execution_count": 44,
   "metadata": {},
   "outputs": [
    {
     "name": "stdout",
     "output_type": "stream",
     "text": [
      "What is the speed limit? 25\n",
      "What is the clocked speed? 34\n",
      "The speed is illeegal. Your fine is: 95\n"
     ]
    }
   ],
   "source": [
    "# This program accepts a speed limit and a clocked speed and either prints a message indicating the speed was legal\n",
    "# or prints the amount of the fine, if the speed is illegal\n",
    "\n",
    "def check_speed():\n",
    "    # get the inputs on speed limit and clocked speed\n",
    "    speed_limit = input(\"What is the speed limit? \")\n",
    "    clocked_speed = input(\"What is the clocked speed? \")\n",
    "    # if clocked speed is larger than speed limit, calculate the fine \n",
    "    if clocked_speed > speed_limit:\n",
    "        fine=50+(int(clocked_speed)-int(speed_limit))*5\n",
    "        # then check if the speed is larger than 90, if it is, recalculate the fine and print the message\n",
    "        if int(clocked_speed) > 90:\n",
    "            fine=fine+200\n",
    "            print(\"The speed is illegal. Your fine is:\", fine)\n",
    "        # if the speed is not larger than 90, then print this message\n",
    "        else:\n",
    "            print(\"The speed is illeegal. Your fine is:\", fine)\n",
    "    \n",
    "    # for all other cases\n",
    "    else:\n",
    "        print(\"The speed is legal\")\n",
    "\n",
    "check_speed()"
   ]
  },
  {
   "cell_type": "code",
   "execution_count": 45,
   "metadata": {},
   "outputs": [
    {
     "name": "stdout",
     "output_type": "stream",
     "text": [
      "What is the speed limit? 25\n",
      "What is the clocked speed? 25\n",
      "The speed is legal\n"
     ]
    }
   ],
   "source": [
    "check_speed()"
   ]
  },
  {
   "cell_type": "code",
   "execution_count": 46,
   "metadata": {},
   "outputs": [
    {
     "name": "stdout",
     "output_type": "stream",
     "text": [
      "What is the speed limit? 60\n",
      "What is the clocked speed? 93\n",
      "The speed is illegal. Your fine is: 415\n"
     ]
    }
   ],
   "source": [
    "check_speed()"
   ]
  },
  {
   "cell_type": "markdown",
   "metadata": {},
   "source": [
    "## Exercise 4"
   ]
  },
  {
   "cell_type": "code",
   "execution_count": 67,
   "metadata": {},
   "outputs": [
    {
     "name": "stdout",
     "output_type": "stream",
     "text": [
      "Please input a date in the form month/day/year: 5/24/1962\n",
      "It's a valid date\n"
     ]
    }
   ],
   "source": [
    "# This program accepts a date in the form month/day/year and output whether or not the date is valid\n",
    "\n",
    "def check_date():\n",
    "    # get the input\n",
    "    date_str= input(\"Please input a date in the form month/day/year: \")\n",
    "    # split the input into month, day and year as items\n",
    "    split_date=date_str.split(\"/\")\n",
    "    date_split_int = [int(item) for item in split_date]\n",
    "    month,day,year=date_split_int\n",
    "    # check for leap year\n",
    "    leap_year=False\n",
    "    if year%4==0 and not year in (1800,1900): leap_year=True\n",
    "    # check for February\n",
    "    if month==2:\n",
    "        if day>0 and day<29:\n",
    "            print(\"It's a valid date\")\n",
    "        elif day==29 and leap_year:\n",
    "            print(\"It's a valid date\")\n",
    "        else:\n",
    "            print(\"It's an invalid date\")\n",
    "    # check whether the month has 31 days\n",
    "    if month in (1,3,5,7,8,10,12):\n",
    "        if day>0 and day<31:\n",
    "            print(\"It's a valid date\")\n",
    "    # check whether the month has 30 days\n",
    "    if month in (4,6,9,11):\n",
    "        if day>0 and day<30:\n",
    "            print(\"It's a valid date\")\n",
    "    # otherwise, print that it's an invalid date\n",
    "        else:\n",
    "            print(\"It's an invalid date\")\n",
    "\n",
    "check_date()"
   ]
  },
  {
   "cell_type": "code",
   "execution_count": 68,
   "metadata": {},
   "outputs": [
    {
     "name": "stdout",
     "output_type": "stream",
     "text": [
      "Please input a date in the form month/day/year: 1/30/1975\n",
      "It's a valid date\n"
     ]
    }
   ],
   "source": [
    "check_date()"
   ]
  },
  {
   "cell_type": "code",
   "execution_count": 69,
   "metadata": {},
   "outputs": [
    {
     "name": "stdout",
     "output_type": "stream",
     "text": [
      "Please input a date in the form month/day/year: 2/28/2000\n",
      "It's a valid date\n"
     ]
    }
   ],
   "source": [
    "check_date()"
   ]
  },
  {
   "cell_type": "code",
   "execution_count": 70,
   "metadata": {},
   "outputs": [
    {
     "name": "stdout",
     "output_type": "stream",
     "text": [
      "Please input a date in the form month/day/year: 9/31/2000\n",
      "It's an invalid date\n"
     ]
    }
   ],
   "source": [
    "check_date()"
   ]
  },
  {
   "cell_type": "code",
   "execution_count": 72,
   "metadata": {},
   "outputs": [
    {
     "name": "stdout",
     "output_type": "stream",
     "text": [
      "Please input a date in the form month/day/year: 2/29/1999\n",
      "It's an invalid date\n"
     ]
    }
   ],
   "source": [
    "check_date()"
   ]
  },
  {
   "cell_type": "code",
   "execution_count": 73,
   "metadata": {},
   "outputs": [
    {
     "name": "stdout",
     "output_type": "stream",
     "text": [
      "Please input a date in the form month/day/year: 4/31/1975\n",
      "It's an invalid date\n"
     ]
    }
   ],
   "source": [
    "check_date()"
   ]
  },
  {
   "cell_type": "markdown",
   "metadata": {},
   "source": [
    "## Exercise 5"
   ]
  },
  {
   "cell_type": "code",
   "execution_count": 1,
   "metadata": {},
   "outputs": [],
   "source": [
    "from graphics import *\n",
    "\n",
    "# This program displays information about a rectangle drawn by the user\n",
    "\n",
    "def rectangle():\n",
    "    # draw the rectangle\n",
    "    win = GraphWin(\"Draw a Rectangle\", 500, 500)\n",
    "    p1 = win.getMouse()\n",
    "    p1.draw(win)\n",
    "    p2 = win.getMouse()\n",
    "    p2.draw(win)\n",
    "    Rectangle(p1,p2).draw(win)\n",
    "    # get x coordinates\n",
    "    x1 = p1.getX()\n",
    "    x2 = p2.getX()\n",
    "    # calculate length by subtracting smaller known x coordinate from larger x coordinate (in this case we assume\n",
    "    # the first click of the user draws upper left corner and the second click of the user draws lower right corner \n",
    "    # of the rectangle, therefore, x2 value will be larger than x1 value)\n",
    "    length = x2 - x1\n",
    "    # get y coordinates\n",
    "    y1 = p1.getY()\n",
    "    y2 = p2.getY()\n",
    "    # calculate width based on the same assumption as in calculation with the length\n",
    "    width = y2 - y1\n",
    "    # calculate perimeter and area of the rectangle\n",
    "    perimeter = 2 * (length + width)\n",
    "    area = length * width\n",
    "    # print the output\n",
    "    print(\"The perimeter of the rectangle is\", perimeter)\n",
    "    print(\"The area of the rectangle is\", area)"
   ]
  },
  {
   "cell_type": "code",
   "execution_count": 2,
   "metadata": {},
   "outputs": [
    {
     "name": "stdout",
     "output_type": "stream",
     "text": [
      "The perimeter of the rectangle is 722.0\n",
      "The area of the rectangle is 30418.0\n"
     ]
    }
   ],
   "source": [
    "rectangle()"
   ]
  },
  {
   "cell_type": "code",
   "execution_count": 4,
   "metadata": {},
   "outputs": [
    {
     "name": "stdout",
     "output_type": "stream",
     "text": [
      "The perimeter of the rectangle is 622.0\n",
      "The area of the rectangle is 23970.0\n"
     ]
    }
   ],
   "source": [
    "rectangle()"
   ]
  },
  {
   "cell_type": "code",
   "execution_count": null,
   "metadata": {
    "collapsed": true
   },
   "outputs": [],
   "source": []
  }
 ],
 "metadata": {
  "kernelspec": {
   "display_name": "Python 3",
   "language": "python",
   "name": "python3"
  },
  "language_info": {
   "codemirror_mode": {
    "name": "ipython",
    "version": 3
   },
   "file_extension": ".py",
   "mimetype": "text/x-python",
   "name": "python",
   "nbconvert_exporter": "python",
   "pygments_lexer": "ipython3",
   "version": "3.6.1"
  }
 },
 "nbformat": 4,
 "nbformat_minor": 2
}
